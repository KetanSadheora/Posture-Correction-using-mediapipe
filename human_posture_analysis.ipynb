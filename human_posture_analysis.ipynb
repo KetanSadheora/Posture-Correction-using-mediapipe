{
 "cells": [
  {
   "cell_type": "code",
   "execution_count": 52,
   "id": "546c5937",
   "metadata": {
    "colab": {
     "base_uri": "https://localhost:8080/"
    },
    "executionInfo": {
     "elapsed": 12690,
     "status": "ok",
     "timestamp": 1659433149462,
     "user": {
      "displayName": "KETAN SADHEORA",
      "userId": "06093463250735229399"
     },
     "user_tz": -330
    },
    "id": "546c5937",
    "outputId": "c8bd2654-f807-4cc1-e0c3-b8426d4472d1"
   },
   "outputs": [],
   "source": [
    "if 'google.colab' in str(get_ipython()):\n",
    "    !pip install opencv-python\n",
    "    !pip install mediapipe\n",
    "    !wget https://raw.githubusercontent.com/spmallick/learnopencv/blob/master/Posture-analysis-system-using-MediaPipe-Pose/input.mp4\n",
    "else:\n",
    "    pass"
   ]
  },
  {
   "cell_type": "code",
   "execution_count": 53,
   "id": "45c4ca55",
   "metadata": {
    "executionInfo": {
     "elapsed": 867,
     "status": "ok",
     "timestamp": 1659433155179,
     "user": {
      "displayName": "KETAN SADHEORA",
      "userId": "06093463250735229399"
     },
     "user_tz": -330
    },
    "id": "45c4ca55"
   },
   "outputs": [],
   "source": [
    "import cv2\n",
    "import time\n",
    "import math as m\n",
    "import mediapipe as mp"
   ]
  },
  {
   "cell_type": "code",
   "execution_count": 54,
   "id": "882e9fbe",
   "metadata": {
    "executionInfo": {
     "elapsed": 439,
     "status": "ok",
     "timestamp": 1659433157770,
     "user": {
      "displayName": "KETAN SADHEORA",
      "userId": "06093463250735229399"
     },
     "user_tz": -330
    },
    "id": "882e9fbe"
   },
   "outputs": [],
   "source": [
    "# Initilize medipipe selfie segmentation class.\n",
    "mp_pose = mp.solutions.pose\n",
    "mp_holistic = mp.solutions.holistic"
   ]
  },
  {
   "cell_type": "code",
   "execution_count": 55,
   "id": "ceb4ca55",
   "metadata": {
    "executionInfo": {
     "elapsed": 463,
     "status": "ok",
     "timestamp": 1659433161603,
     "user": {
      "displayName": "KETAN SADHEORA",
      "userId": "06093463250735229399"
     },
     "user_tz": -330
    },
    "id": "ceb4ca55"
   },
   "outputs": [],
   "source": [
    "def findDistance(x1, y1, x2, y2):\n",
    "    dist = m.sqrt((x2-x1)**2+(y2-y1)**2)\n",
    "    return dist"
   ]
  },
  {
   "cell_type": "code",
   "execution_count": 56,
   "id": "4492e989",
   "metadata": {
    "executionInfo": {
     "elapsed": 6,
     "status": "ok",
     "timestamp": 1659433167034,
     "user": {
      "displayName": "KETAN SADHEORA",
      "userId": "06093463250735229399"
     },
     "user_tz": -330
    },
    "id": "4492e989"
   },
   "outputs": [],
   "source": [
    "# Calculate angle.\n",
    "def findAngle(x1, y1, x2, y2):\n",
    "    theta = m.acos((y2 -y1)*(-y1) / (m.sqrt((x2 - x1)**2 + (y2 - y1)**2) * y1))\n",
    "    degree = int(180/m.pi)*theta\n",
    "    return degree"
   ]
  },
  {
   "cell_type": "code",
   "execution_count": 57,
   "id": "e8db85c1",
   "metadata": {
    "executionInfo": {
     "elapsed": 4,
     "status": "ok",
     "timestamp": 1659433167501,
     "user": {
      "displayName": "KETAN SADHEORA",
      "userId": "06093463250735229399"
     },
     "user_tz": -330
    },
    "id": "e8db85c1"
   },
   "outputs": [],
   "source": [
    "def sendWarning(x):\n",
    "    pass"
   ]
  },
  {
   "cell_type": "code",
   "execution_count": 58,
   "id": "cb810117",
   "metadata": {
    "executionInfo": {
     "elapsed": 2,
     "status": "ok",
     "timestamp": 1659433169780,
     "user": {
      "displayName": "KETAN SADHEORA",
      "userId": "06093463250735229399"
     },
     "user_tz": -330
    },
    "id": "cb810117"
   },
   "outputs": [],
   "source": [
    "# Initilize frame counters.\n",
    "good_frames = 0\n",
    "bad_frames = 0\n",
    "\n",
    "# Font type.\n",
    "font = cv2.FONT_HERSHEY_SIMPLEX\n",
    "\n",
    "# Colors.\n",
    "blue = (255, 127, 0)\n",
    "red = (50, 50, 255)\n",
    "green = (127, 255, 0)\n",
    "dark_blue = (127, 20, 0)\n",
    "light_green = (127, 233, 100)\n",
    "yellow = (0, 255, 255)\n",
    "pink = (255, 0, 255)"
   ]
  },
  {
   "cell_type": "code",
   "execution_count": 62,
   "id": "cb0eb7cb",
   "metadata": {
    "executionInfo": {
     "elapsed": 7,
     "status": "ok",
     "timestamp": 1659433171462,
     "user": {
      "displayName": "KETAN SADHEORA",
      "userId": "06093463250735229399"
     },
     "user_tz": -330
    },
    "id": "cb0eb7cb"
   },
   "outputs": [],
   "source": [
    "# Initialize mediapipe pose class.\n",
    "mp_pose = mp.solutions.pose\n",
    "pose = mp_pose.Pose()\n",
    "\n",
    "# Initialize video capture object.\n",
    "# For webcam input replace file name with 0.\n",
    "file_name = \"video_20220803_115300.mp4\"\n",
    "cap = cv2.VideoCapture(file_name)\n",
    "# Meta.\n",
    "fps = int(cap.get(cv2.CAP_PROP_FPS))\n",
    "width = int(cap.get(cv2.CAP_PROP_FRAME_WIDTH))\n",
    "height = int(cap.get(cv2.CAP_PROP_FRAME_HEIGHT))\n",
    "frame_size = (width, height)\n",
    "fourcc = cv2.VideoWriter_fourcc(*'mp4v')\n",
    "\n",
    "\n",
    "# Initialize video writer.\n",
    "video_output = cv2.VideoWriter('output.mp4', fourcc, fps, frame_size)\n"
   ]
  },
  {
   "cell_type": "code",
   "execution_count": 63,
   "id": "bd157ce3",
   "metadata": {
    "id": "00af6213"
   },
   "outputs": [
    {
     "name": "stdout",
     "output_type": "stream",
     "text": [
      "Processing..\n",
      "Null.Frames\n",
      "Finished.\n"
     ]
    }
   ],
   "source": [
    "#Processing the image using mediapipe is fairly simple, after setting minimum detection confidence and minimum tracking confidence, we need to pass the RGB image to `pose.process()` method. The documentation can be found in this [**link**](https://google.github.io/mediapipe/solutions/pose). With the acquired result, we find the coordinates of specific landmarks. Then we find the angles suntended by the line of interset to y-axis and draw conclusion on the basis of results obtained from analysis script. The code is self explanatory.\n",
    "\n",
    "print('Processing..')\n",
    "while cap.isOpened():\n",
    "    # Capture frames.\n",
    "    success, image = cap.read()\n",
    "    if not success:\n",
    "        print(\"Null.Frames\")\n",
    "        break\n",
    "    # Get fps.\n",
    "    fps = cap.get(cv2.CAP_PROP_FPS)\n",
    "    # Get height and width.\n",
    "    h, w = image.shape[:2]\n",
    "\n",
    "    # Convert the BGR image to RGB.\n",
    "    image = cv2.cvtColor(image, cv2.COLOR_BGR2RGB)\n",
    "\n",
    "    # Process the image.\n",
    "    keypoints = pose.process(image)\n",
    "\n",
    "    # Convert the image back to BGR.\n",
    "    image = cv2.cvtColor(image, cv2.COLOR_RGB2BGR)\n",
    "\n",
    "    # Use lm and lmPose as representative of the following methods.\n",
    "    lm = keypoints.pose_landmarks\n",
    "    lmPose = mp_pose.PoseLandmark\n",
    "\n",
    "    # Acquire the landmark coordinates.\n",
    "    # Once aligned properly, left or right should not be a concern.      \n",
    "    # Left shoulder.\n",
    "    l_shldr_x = int(lm.landmark[lmPose.LEFT_SHOULDER].x * w)\n",
    "    l_shldr_y = int(lm.landmark[lmPose.LEFT_SHOULDER].y * h)\n",
    "    # Right shoulder\n",
    "    r_shldr_x = int(lm.landmark[lmPose.RIGHT_SHOULDER].x * w)\n",
    "    r_shldr_y = int(lm.landmark[lmPose.RIGHT_SHOULDER].y * h)\n",
    "    # Left ear.\n",
    "    l_ear_x = int(lm.landmark[lmPose.LEFT_EAR].x * w)\n",
    "    l_ear_y = int(lm.landmark[lmPose.LEFT_EAR].y * h)\n",
    "    # Left hip.\n",
    "    l_hip_x = int(lm.landmark[lmPose.LEFT_HIP].x * w)\n",
    "    l_hip_y = int(lm.landmark[lmPose.LEFT_HIP].y * h)\n",
    "\n",
    "    # Calculate distance between left shoulder and right shoulder points.\n",
    "    offset = findDistance(l_shldr_x, l_shldr_y, r_shldr_x, r_shldr_y)\n",
    "\n",
    "    # Assist to align the camera to point at the side view of the person.\n",
    "    # Offset threshold 30 is based on results obtained from analysis over 100 samples.\n",
    "    if offset < 100:\n",
    "        cv2.putText(image, str(int(offset)) + ' Aligned', (w - 150, 30), font, 0.9, green, 2)\n",
    "    else:\n",
    "        cv2.putText(image, str(int(offset)) + ' Not Aligned', (w - 150, 30), font, 0.9, red, 2)\n",
    "\n",
    "    # Calculate angles.\n",
    "    neck_inclination = findAngle(l_shldr_x, l_shldr_y, l_ear_x, l_ear_y)\n",
    "    torso_inclination = findAngle(l_hip_x, l_hip_y, l_shldr_x, l_shldr_y)\n",
    "\n",
    "    # Draw landmarks.\n",
    "    cv2.circle(image, (l_shldr_x, l_shldr_y), 7, yellow, -1)\n",
    "    cv2.circle(image, (l_ear_x, l_ear_y), 7, yellow, -1)\n",
    "\n",
    "    # Let's take y - coordinate of P3 100px above x1,  for display elegance.\n",
    "    # Although we are taking y = 0 while calculating angle between P1,P2,P3.\n",
    "    cv2.circle(image, (l_shldr_x, l_shldr_y - 100), 7, yellow, -1)\n",
    "    cv2.circle(image, (r_shldr_x, r_shldr_y), 7, pink, -1)\n",
    "    cv2.circle(image, (l_hip_x, l_hip_y), 7, yellow, -1)\n",
    "\n",
    "    # Similarly, here we are taking y - coordinate 100px above x1. Note that\n",
    "    # you can take any value for y, not necessarily 100 or 200 pixels.\n",
    "    cv2.circle(image, (l_hip_x, l_hip_y - 100), 7, yellow, -1)\n",
    "\n",
    "    # Put text, Posture and angle inclination.\n",
    "    # Text string for display.\n",
    "    angle_text_string = 'Neck : ' + str(int(neck_inclination)) + '  Torso : ' + str(int(torso_inclination))\n",
    "\n",
    "    # Determine whether good posture or bad posture.\n",
    "    # The threshold angles have been set based on intuition.\n",
    "    if neck_inclination < 40 and torso_inclination < 10:\n",
    "        bad_frames = 0\n",
    "        good_frames += 1\n",
    "\n",
    "        cv2.putText(image, angle_text_string, (10, 30), font, 0.9, light_green, 2)\n",
    "        cv2.putText(image, str(int(neck_inclination)), (l_shldr_x + 10, l_shldr_y), font, 0.9, light_green, 2)\n",
    "        cv2.putText(image, str(int(torso_inclination)), (l_hip_x + 10, l_hip_y), font, 0.9, light_green, 2)\n",
    "\n",
    "        # Join landmarks.\n",
    "        cv2.line(image, (l_shldr_x, l_shldr_y), (l_ear_x, l_ear_y), green, 4)\n",
    "        cv2.line(image, (l_shldr_x, l_shldr_y), (l_shldr_x, l_shldr_y - 100), green, 4)\n",
    "        cv2.line(image, (l_hip_x, l_hip_y), (l_shldr_x, l_shldr_y), green, 4)\n",
    "        cv2.line(image, (l_hip_x, l_hip_y), (l_hip_x, l_hip_y - 100), green, 4)\n",
    "\n",
    "    else:\n",
    "        good_frames = 0\n",
    "        bad_frames += 1\n",
    "\n",
    "        cv2.putText(image, angle_text_string, (10, 30), font, 0.9, red, 2)\n",
    "        cv2.putText(image, str(int(neck_inclination)), (l_shldr_x + 10, l_shldr_y), font, 0.9, red, 2)\n",
    "        cv2.putText(image, str(int(torso_inclination)), (l_hip_x + 10, l_hip_y), font, 0.9, red, 2)\n",
    "\n",
    "        # Join landmarks.\n",
    "        cv2.line(image, (l_shldr_x, l_shldr_y), (l_ear_x, l_ear_y), red, 4)\n",
    "        cv2.line(image, (l_shldr_x, l_shldr_y), (l_shldr_x, l_shldr_y - 100), red, 4)\n",
    "        cv2.line(image, (l_hip_x, l_hip_y), (l_shldr_x, l_shldr_y), red, 4)\n",
    "        cv2.line(image, (l_hip_x, l_hip_y), (l_hip_x, l_hip_y - 100), red, 4)\n",
    "\n",
    "    # Calculate the time of remaining in a particular posture.\n",
    "    good_time = (1 / fps) * good_frames\n",
    "    bad_time =  (1 / fps) * bad_frames\n",
    "\n",
    "    # Pose time.\n",
    "    if good_time > 0:\n",
    "        time_string_good = 'Good Posture Time : ' + str(round(good_time, 1)) + 's'\n",
    "        cv2.putText(image, time_string_good, (10, h - 20), font, 0.9, green, 2)\n",
    "    else:\n",
    "        time_string_bad = 'Bad Posture Time : ' + str(round(bad_time, 1)) + 's'\n",
    "        cv2.putText(image, time_string_bad, (10, h - 20), font, 0.9, red, 2)\n",
    "\n",
    "    # If you stay in bad posture for more than 3 minutes (180s) send an alert.\n",
    "    if bad_time > 180:\n",
    "        sendWarning()\n",
    "    # Write frames.\n",
    "    video_output.write(image)\n",
    "print('Finished.')\n",
    "cap.release()\n",
    "video_output.release()"
   ]
  },
  {
   "cell_type": "raw",
   "id": "4a1f4333",
   "metadata": {
    "id": "45a63289"
   },
   "source": []
  },
  {
   "cell_type": "code",
   "execution_count": null,
   "id": "823b6ada",
   "metadata": {},
   "outputs": [],
   "source": []
  },
  {
   "cell_type": "code",
   "execution_count": null,
   "id": "ac81f056",
   "metadata": {},
   "outputs": [],
   "source": []
  }
 ],
 "metadata": {
  "colab": {
   "name": "human_posture_analysis.ipynb",
   "provenance": []
  },
  "kernelspec": {
   "display_name": "Python 3",
   "language": "python",
   "name": "python3"
  },
  "language_info": {
   "codemirror_mode": {
    "name": "ipython",
    "version": 3
   },
   "file_extension": ".py",
   "mimetype": "text/x-python",
   "name": "python",
   "nbconvert_exporter": "python",
   "pygments_lexer": "ipython3",
   "version": "3.8.8"
  }
 },
 "nbformat": 4,
 "nbformat_minor": 5
}
